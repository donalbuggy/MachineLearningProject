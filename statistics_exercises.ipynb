{
 "cells": [
  {
   "cell_type": "markdown",
   "id": "3409f094",
   "metadata": {},
   "source": [
    "## Statistics exercises"
   ]
  },
  {
   "cell_type": "markdown",
   "id": "bd99602f",
   "metadata": {},
   "source": [
    "### Exercise 1"
   ]
  },
  {
   "cell_type": "markdown",
   "id": "5bfb2ce1",
   "metadata": {},
   "source": [
    "In the lady tasting tea experiment, a subject is given eight cups of tea of sample size 8, of which 4 have been prepared with tea added first and four with milk added first. The cups are given in a random order and the subject is asked to determine which cup belongs to which group.\n",
    "\n",
    "The odds of choosing the correct combination of cups at random are given as 1 in 70 possible combinations or 1.4%.\n",
    "\n",
    "Task: Calculate the minimum number of cups of tea required to ensure the probability of randomly selecting the correct cups is less than or equal to 1%."
   ]
  },
  {
   "cell_type": "markdown",
   "id": "cb1bb9ef",
   "metadata": {},
   "source": [
    "***"
   ]
  },
  {
   "cell_type": "markdown",
   "id": "acb88614",
   "metadata": {},
   "source": [
    "The odds of choosing the correct combination of cups increases with sample size *n* and the number of possible combinations, *k* being the number of cups to be chosen (half of *n*). The number of combinations for a sample size *n* can be calculated using the SciPy *comb* package:"
   ]
  },
  {
   "cell_type": "code",
   "execution_count": 17,
   "id": "162be980",
   "metadata": {},
   "outputs": [
    {
     "name": "stdout",
     "output_type": "stream",
     "text": [
      "Possible combinations of k from n: 70\n",
      "Chance of correct guess: 1.43%\n"
     ]
    }
   ],
   "source": [
    "from scipy.special import comb\n",
    "\n",
    "k = 4\n",
    "n = 8\n",
    "combinations = comb(n, k, exact=True)\n",
    "print(\"Possible combinations of k from n: \" + str(combinations))\n",
    "\n",
    "print(\"Chance of correct guess: \" + str(round(100*(1/combinations),2)) + \"%\")"
   ]
  },
  {
   "cell_type": "markdown",
   "id": "808fd6b3",
   "metadata": {},
   "source": [
    "Increasing *n* will lower the odds of guessing the correct combination at random to less than 1%:"
   ]
  },
  {
   "cell_type": "code",
   "execution_count": 18,
   "id": "9970cf73",
   "metadata": {},
   "outputs": [
    {
     "name": "stdout",
     "output_type": "stream",
     "text": [
      "Possible combinations of k from n: 924\n",
      "Chance of correct guess: 0.11%\n"
     ]
    }
   ],
   "source": [
    "k = 6\n",
    "n = 12\n",
    "combinations = comb(n,k, exact=True)\n",
    "print(\"Possible combinations of k from n: \" + str(combinations))\n",
    "\n",
    "print(\"Chance of correct guess: \" + str(round(100*(1/combinations),2)) + \"%\")"
   ]
  },
  {
   "cell_type": "markdown",
   "id": "e411695b",
   "metadata": {},
   "source": [
    "Selecting 6 cups at random from a sample size of 12 yields 924 possible combinations and a 0.11% chance of guessing correctly."
   ]
  },
  {
   "cell_type": "markdown",
   "id": "f067e408",
   "metadata": {},
   "source": [
    "Lowering *n* to 10 brings the probability closer to the 1% target:"
   ]
  },
  {
   "cell_type": "code",
   "execution_count": 19,
   "id": "7f83ef74",
   "metadata": {},
   "outputs": [
    {
     "name": "stdout",
     "output_type": "stream",
     "text": [
      "Possible combinations of k from n: 252\n",
      "Chance of correct guess: 0.4%\n"
     ]
    }
   ],
   "source": [
    "k = 5\n",
    "n = 10\n",
    "combinations = comb(n,k, exact=True)\n",
    "print(\"Possible combinations of k from n: \" + str(combinations))\n",
    "\n",
    "print(\"Chance of correct guess: \" + str(round(100*(1/combinations),2)) + \"%\")"
   ]
  },
  {
   "cell_type": "markdown",
   "id": "13666ce2",
   "metadata": {},
   "source": [
    "Because the cups must remain discrete units and *n* and *k* must therefore remain integers, and assuming *k* must be exactly half of *n*, a sample size of 10 brings the probability closest to <=1%."
   ]
  },
  {
   "cell_type": "markdown",
   "id": "4178bf53",
   "metadata": {},
   "source": [
    "***"
   ]
  },
  {
   "cell_type": "markdown",
   "id": "2772bed5",
   "metadata": {},
   "source": [
    "Bonus: How many would be required if you were to let the taster get one cup wrong while maintaining the 1% threshold?"
   ]
  },
  {
   "cell_type": "markdown",
   "id": "d7eea4f8",
   "metadata": {},
   "source": [
    "***"
   ]
  },
  {
   "cell_type": "markdown",
   "id": "03d6560d",
   "metadata": {},
   "source": [
    "Keeping a sample size of *n*=10, *k* is now set to 4 as the subject gets one guess wrong."
   ]
  },
  {
   "cell_type": "code",
   "execution_count": 20,
   "id": "1e25791d",
   "metadata": {
    "scrolled": true
   },
   "outputs": [
    {
     "name": "stdout",
     "output_type": "stream",
     "text": [
      "Possible combinations of k from n: 210\n",
      "Chance of correct guess: 0.48%\n"
     ]
    }
   ],
   "source": [
    "k = 4\n",
    "n = 10\n",
    "combinations = comb(n,k, exact=True)\n",
    "print(\"Possible combinations of k from n: \" + str(combinations))\n",
    "\n",
    "print(\"Chance of correct guess: \" + str(round(100*(1/combinations),2)) + \"%\")"
   ]
  },
  {
   "cell_type": "markdown",
   "id": "a62d1029",
   "metadata": {},
   "source": [
    "The probability of a correct guess is now at 0.48%, staying under the 1% target. Testing against the other values of *n*:"
   ]
  },
  {
   "cell_type": "code",
   "execution_count": 21,
   "id": "4a7f982e",
   "metadata": {},
   "outputs": [
    {
     "name": "stdout",
     "output_type": "stream",
     "text": [
      "Possible combinations of k from n: 56\n",
      "Chance of correct guess: 1.79%\n"
     ]
    }
   ],
   "source": [
    "k = 3\n",
    "n = 8\n",
    "combinations = comb(n,k, exact=True)\n",
    "print(\"Possible combinations of k from n: \" + str(combinations))\n",
    "\n",
    "print(\"Chance of correct guess: \" + str(round(100*(1/combinations),2)) + \"%\")"
   ]
  },
  {
   "cell_type": "code",
   "execution_count": 22,
   "id": "0b4f91ed",
   "metadata": {},
   "outputs": [
    {
     "name": "stdout",
     "output_type": "stream",
     "text": [
      "Possible combinations of k from n: 792\n",
      "Chance of correct guess: 0.13%\n"
     ]
    }
   ],
   "source": [
    "k = 5\n",
    "n = 12\n",
    "combinations = comb(n,k, exact=True)\n",
    "print(\"Possible combinations of k from n: \" + str(combinations))\n",
    "\n",
    "print(\"Chance of correct guess: \" + str(round(100*(1/combinations),2)) + \"%\")"
   ]
  },
  {
   "cell_type": "markdown",
   "id": "b2020515",
   "metadata": {},
   "source": [
    "We can see that a sample size of 8 with 3 correct guesses is 1.79%, significantly over the 1% limit, while a sample size of 12 with 5 correct guesses has a probability of 0.13%."
   ]
  },
  {
   "cell_type": "markdown",
   "id": "8cc1b1ba",
   "metadata": {},
   "source": [
    "***"
   ]
  },
  {
   "cell_type": "markdown",
   "id": "13aa635d",
   "metadata": {},
   "source": [
    "### Exercise 2"
   ]
  },
  {
   "cell_type": "markdown",
   "id": "a3b06fe3",
   "metadata": {},
   "source": [
    "Task: Use scipy's version of Fisher's exact test to simulate the Lady Tasting Tea problem."
   ]
  },
  {
   "cell_type": "markdown",
   "id": "0f31bec8",
   "metadata": {},
   "source": [
    "***"
   ]
  },
  {
   "cell_type": "markdown",
   "id": "2a1677b3",
   "metadata": {},
   "source": [
    "Fisher's exact test is a statistical significance test used in the analysis of contingency tables, developed as part of the lady tasting tea experiment.\n",
    "\n",
    "Sticking with the sample size of 10 from above, table describing a correct guess of five cups with tea added first and five with milk added first would be:"
   ]
  },
  {
   "cell_type": "code",
   "execution_count": 49,
   "id": "0a43e0ff",
   "metadata": {},
   "outputs": [],
   "source": [
    "table = [[5,0],\n",
    "         [0,5]]"
   ]
  },
  {
   "cell_type": "markdown",
   "id": "880e7c9a",
   "metadata": {},
   "source": [
    "Passing this table to Fisher's exact test, we return a p-value of 0.8%, which is double the expected value for the sample size:"
   ]
  },
  {
   "cell_type": "code",
   "execution_count": 58,
   "id": "399a5451",
   "metadata": {},
   "outputs": [
    {
     "data": {
      "text/plain": [
       "(inf, 0.007936507936507929)"
      ]
     },
     "execution_count": 58,
     "metadata": {},
     "output_type": "execute_result"
    }
   ],
   "source": [
    "from scipy.stats import fisher_exact\n",
    "\n",
    "fisher_exact(table)"
   ]
  },
  {
   "cell_type": "markdown",
   "id": "a0212fb6",
   "metadata": {},
   "source": [
    "This is because *fisher_exact()* contains the optional parameter \"alternative\", which defines the conditions for the alternative (non-null) hypothesis. The default value of the parameter is \"two-sided\", counting both tails of the probability distribution, i.e., the probability that the odds ratio of the population underlying the observation is not one, irrespective of the value being greater or lesser than one.\n",
    "\n",
    "To get the p-value of the table describing a correct guess (0.4%, as found in exercise 1), \"alternative\" must be set to \"greater\":"
   ]
  },
  {
   "cell_type": "code",
   "execution_count": 59,
   "id": "51f1a36c",
   "metadata": {},
   "outputs": [
    {
     "data": {
      "text/plain": [
       "(inf, 0.0039682539682539646)"
      ]
     },
     "execution_count": 59,
     "metadata": {},
     "output_type": "execute_result"
    }
   ],
   "source": [
    "fisher_exact(table, alternative=\"greater\")"
   ]
  },
  {
   "cell_type": "markdown",
   "id": "a90c4c21",
   "metadata": {},
   "source": [
    "The p-value now conforms to the prediction found in exercise 1, that the ([4,0],[0,4]) table describing a correct guess has a probability of 0.4%.\n",
    "\n",
    "Because p < 0.05, we can reject the null hypothesis in this instance."
   ]
  },
  {
   "cell_type": "markdown",
   "id": "de44a51d",
   "metadata": {},
   "source": [
    "***"
   ]
  },
  {
   "cell_type": "markdown",
   "id": "54e9a691",
   "metadata": {},
   "source": [
    "### Exercise 3"
   ]
  },
  {
   "cell_type": "markdown",
   "id": "0679ef17",
   "metadata": {},
   "source": [
    "Task: Take the code from the Examples section of the scipy stats documentation for independent samples t-tests, add it to your own notebook and explain how it works using MarkDown cells and code comments. Improve it in any way you think it could be improved."
   ]
  },
  {
   "cell_type": "markdown",
   "id": "00e45883",
   "metadata": {},
   "source": [
    "***"
   ]
  },
  {
   "cell_type": "markdown",
   "id": "c26571f0",
   "metadata": {},
   "source": [
    "A t-test is any statistical hypothesis test to compare the means of two groups of samples. The sample code explores different possible conditions in which the function may be used, such as varying scales, sample sizes, etc.\n",
    "\n",
    "\n",
    "The sample code begins by importing the required packages and setting up the number generator taken from numpy:"
   ]
  },
  {
   "cell_type": "code",
   "execution_count": 65,
   "id": "08252a37",
   "metadata": {},
   "outputs": [],
   "source": [
    "# numpy for creating the random number generator from the np.random package\n",
    "import numpy as np\n",
    "\n",
    "# for the ttest functions\n",
    "from scipy import stats\n",
    "\n",
    "# random number generator\n",
    "rng = np.random.default_rng()"
   ]
  },
  {
   "cell_type": "markdown",
   "id": "6d3471ba",
   "metadata": {},
   "source": [
    "It then runs a test using two normally-distributed samples (this is one of the assumptions of the t-test) with identical sample sizes of values taken from the normal distribution, means (loc), and standard deviation (scale), with a random factor added:"
   ]
  },
  {
   "cell_type": "code",
   "execution_count": 84,
   "id": "fefd0953",
   "metadata": {},
   "outputs": [
    {
     "data": {
      "text/plain": [
       "Ttest_indResult(statistic=0.9872987363918337, pvalue=0.3237355074159033)"
      ]
     },
     "execution_count": 84,
     "metadata": {},
     "output_type": "execute_result"
    }
   ],
   "source": [
    "# stats.norm.rvs will calculate the normal distribution for each sample\n",
    "# ttest_ind() will then perform the t-test on those values\n",
    "\n",
    "rvs1 = stats.norm.rvs(loc=5, scale=10, size=500, random_state=rng)\n",
    "rvs2 = stats.norm.rvs(loc=5, scale=10, size=500, random_state=rng)\n",
    "\n",
    "stats.ttest_ind(rvs1, rvs2)"
   ]
  },
  {
   "cell_type": "markdown",
   "id": "66f5297d",
   "metadata": {},
   "source": [
    "The *ttest_ind()* function returns the calculated t-statistic of 0.99, and a p-value of 32%.\n",
    "\n",
    "These results indicate that the null hypothesis should not be rejected due to the p-value being greater than 0.05.\n",
    "\n",
    "In the next line, the *equal_var* parameter is set to *False*. This parameter determines whether the *ttest_ind()* function should assume equal variances between rvs1 and rvs2, i.e., that the degree to which a random variable from one sample will differ from that sample's expected value according to the distribution, will be equal to that from the other sample.\n",
    "\n",
    "The parameter is set to *True* by default, in which case the function assumes equal variances between the samples and performs a standard independent 2-sample test. If set to *False*, it assumes unequal variances and performs Welch's t-test, which is more reliable with unequal variances and  potentially unequal sample sizes. Welch's t-test still assumes normality in the samples."
   ]
  },
  {
   "cell_type": "code",
   "execution_count": 85,
   "id": "989250ea",
   "metadata": {},
   "outputs": [
    {
     "data": {
      "text/plain": [
       "Ttest_indResult(statistic=0.9872987363918337, pvalue=0.3237356915530597)"
      ]
     },
     "execution_count": 85,
     "metadata": {},
     "output_type": "execute_result"
    }
   ],
   "source": [
    "stats.ttest_ind(rvs1, rvs2, equal_var=False)"
   ]
  },
  {
   "cell_type": "markdown",
   "id": "400c579f",
   "metadata": {},
   "source": [
    "In this case the t-statistic and p-value are nearly identical, showing that the variances between the samples are the same and Welch's test is not a good fit for these samples."
   ]
  },
  {
   "cell_type": "markdown",
   "id": "6516e000",
   "metadata": {},
   "source": [
    "The code now creates a new sample, rvs3, with loc=5, scale=20, and size=500, plus the random factor. It then performs a t-test on rvs1 and rvs3, with equal variances assumed by *equal_vr* being left to its default value."
   ]
  },
  {
   "cell_type": "code",
   "execution_count": 87,
   "id": "db3d0c83",
   "metadata": {
    "scrolled": true
   },
   "outputs": [
    {
     "data": {
      "text/plain": [
       "Ttest_indResult(statistic=0.5506682852081517, pvalue=0.5819843273483702)"
      ]
     },
     "execution_count": 87,
     "metadata": {},
     "output_type": "execute_result"
    }
   ],
   "source": [
    "rvs3 = stats.norm.rvs(loc=5, scale=20, size=500, random_state=rng)\n",
    "stats.ttest_ind(rvs1, rvs3)"
   ]
  },
  {
   "cell_type": "markdown",
   "id": "56b6054d",
   "metadata": {},
   "source": [
    "Comparing the means of the two samples, *ttest_ind()* finds a t-statistic of 0.55 and a p-value of 58%."
   ]
  },
  {
   "cell_type": "code",
   "execution_count": 88,
   "id": "141d7a95",
   "metadata": {},
   "outputs": [
    {
     "data": {
      "text/plain": [
       "Ttest_indResult(statistic=0.5506682852081517, pvalue=0.5820290227405511)"
      ]
     },
     "execution_count": 88,
     "metadata": {},
     "output_type": "execute_result"
    }
   ],
   "source": [
    "stats.ttest_ind(rvs1, rvs3, equal_var=False)"
   ]
  },
  {
   "cell_type": "markdown",
   "id": "7ef54fd7",
   "metadata": {},
   "source": [
    "With the unequal variances, the results are again marginally different."
   ]
  },
  {
   "cell_type": "markdown",
   "id": "d8aa3cae",
   "metadata": {},
   "source": [
    "In the step of the sample code, a fourth sample is declared with a significantly lower sample size:"
   ]
  },
  {
   "cell_type": "code",
   "execution_count": 91,
   "id": "9ce9b7b6",
   "metadata": {},
   "outputs": [
    {
     "data": {
      "text/plain": [
       "Ttest_indResult(statistic=2.330566916705046, pvalue=0.02010783713446677)"
      ]
     },
     "execution_count": 91,
     "metadata": {},
     "output_type": "execute_result"
    }
   ],
   "source": [
    "rvs4 = stats.norm.rvs(loc=5, scale=20, size=100, random_state=rng)\n",
    "stats.ttest_ind(rvs1, rvs4)"
   ]
  },
  {
   "cell_type": "code",
   "execution_count": 92,
   "id": "91a2330e",
   "metadata": {},
   "outputs": [
    {
     "data": {
      "text/plain": [
       "Ttest_indResult(statistic=1.4634849320028398, pvalue=0.14625158080122577)"
      ]
     },
     "execution_count": 92,
     "metadata": {},
     "output_type": "execute_result"
    }
   ],
   "source": [
    "stats.ttest_ind(rvs1, rvs4, equal_var=False)"
   ]
  },
  {
   "cell_type": "markdown",
   "id": "b5365be6",
   "metadata": {},
   "source": [
    "The difference in sample size has led to a significant difference in the t-statistic and p-value when assuming equal or unequal variances, although neither has a low enough p-value for the null hypothesis to be rejected."
   ]
  },
  {
   "cell_type": "markdown",
   "id": "b50ca7d8",
   "metadata": {},
   "source": [
    "Another sample is declared with different means, variance and sample size:"
   ]
  },
  {
   "cell_type": "code",
   "execution_count": 93,
   "id": "731ab87e",
   "metadata": {},
   "outputs": [
    {
     "data": {
      "text/plain": [
       "Ttest_indResult(statistic=-1.6550938908081205, pvalue=0.09843013463975184)"
      ]
     },
     "execution_count": 93,
     "metadata": {},
     "output_type": "execute_result"
    }
   ],
   "source": [
    "rvs5 = stats.norm.rvs(loc=8, scale=20, size=100, random_state=rng)\n",
    "stats.ttest_ind(rvs1, rvs5)"
   ]
  },
  {
   "cell_type": "code",
   "execution_count": 94,
   "id": "c758f7f0",
   "metadata": {},
   "outputs": [
    {
     "data": {
      "text/plain": [
       "Ttest_indResult(statistic=-1.0712362010251228, pvalue=0.2864363162731875)"
      ]
     },
     "execution_count": 94,
     "metadata": {},
     "output_type": "execute_result"
    }
   ],
   "source": [
    "stats.ttest_ind(rvs1, rvs5, equal_var=False)"
   ]
  },
  {
   "cell_type": "markdown",
   "id": "b9c71bf1",
   "metadata": {},
   "source": []
  },
  {
   "cell_type": "markdown",
   "id": "69ed0d96",
   "metadata": {},
   "source": [
    "When performing a permutation test, more permutations typically yields more accurate results. The *random_state* attribute (\"None\" by default, which uses the np.random.RandomState singleton) is set to the generator decalred at the beginning of the code:"
   ]
  },
  {
   "cell_type": "code",
   "execution_count": 95,
   "id": "514a00af",
   "metadata": {},
   "outputs": [
    {
     "data": {
      "text/plain": [
       "Ttest_indResult(statistic=-1.6550938908081205, pvalue=0.098)"
      ]
     },
     "execution_count": 95,
     "metadata": {},
     "output_type": "execute_result"
    }
   ],
   "source": [
    "stats.ttest_ind(rvs1, rvs5, permutations=10000,\n",
    "                random_state=rng)"
   ]
  },
  {
   "cell_type": "markdown",
   "id": "27592588",
   "metadata": {},
   "source": [
    "The code next declares two new samples, one of which has a longer tail than the other, and uses the *Trim* keyword to set a value of 20% trimming\n"
   ]
  },
  {
   "cell_type": "code",
   "execution_count": 96,
   "id": "d21e11f5",
   "metadata": {},
   "outputs": [],
   "source": [
    "a = (56, 128.6, 12, 123.8, 64.34, 78, 763.3)\n",
    "b = (1.1, 2.9, 4.2)"
   ]
  },
  {
   "cell_type": "markdown",
   "id": "f88a41bd",
   "metadata": {},
   "source": [
    "Use the trim keyword to perform a trimmed (Yuen) t-test. For example, using 20% trimming, trim=.2, the test will reduce the impact of one element from each tail of sample a. It will have no effect on sample b because np.floor(trim*len(b)) is 0."
   ]
  },
  {
   "cell_type": "code",
   "execution_count": 97,
   "id": "d37ed399",
   "metadata": {},
   "outputs": [
    {
     "data": {
      "text/plain": [
       "Ttest_indResult(statistic=3.4463884028073513, pvalue=0.01369338726499547)"
      ]
     },
     "execution_count": 97,
     "metadata": {},
     "output_type": "execute_result"
    }
   ],
   "source": [
    "stats.ttest_ind(a, b, trim=.2)"
   ]
  },
  {
   "cell_type": "code",
   "execution_count": null,
   "id": "b3f9d9a8",
   "metadata": {},
   "outputs": [],
   "source": []
  },
  {
   "cell_type": "code",
   "execution_count": null,
   "id": "798aaaeb",
   "metadata": {},
   "outputs": [],
   "source": []
  }
 ],
 "metadata": {
  "kernelspec": {
   "display_name": "Python 3 (ipykernel)",
   "language": "python",
   "name": "python3"
  },
  "language_info": {
   "codemirror_mode": {
    "name": "ipython",
    "version": 3
   },
   "file_extension": ".py",
   "mimetype": "text/x-python",
   "name": "python",
   "nbconvert_exporter": "python",
   "pygments_lexer": "ipython3",
   "version": "3.8.12"
  }
 },
 "nbformat": 4,
 "nbformat_minor": 5
}
