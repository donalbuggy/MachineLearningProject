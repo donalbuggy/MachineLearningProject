{
 "cells": [
  {
   "cell_type": "markdown",
   "id": "043f2fbe",
   "metadata": {},
   "source": [
    "## Statistics exercises"
   ]
  },
  {
   "cell_type": "markdown",
   "id": "9d157f2e",
   "metadata": {},
   "source": [
    "### Exercise 1"
   ]
  },
  {
   "cell_type": "markdown",
   "id": "e184fa51",
   "metadata": {},
   "source": [
    "In the Lady's Tea Test experiment, a subject is given eight cups of tea of sample size 8, of which 4 have been prepared with tea added first and four with milk added first. The cups are given in a random order and the subject is asked to determine which cup belongs to which group.\n",
    "\n",
    "The odds of choosing the correct combination of cups at random are given as 1 in 70 possible combinations or 1.4%.\n",
    "\n",
    "Task: Calculate the minimum number of cups of tea required to ensure the probability of randomly selecting the correct cups is less than or equal to 1%."
   ]
  },
  {
   "cell_type": "markdown",
   "id": "959b5571",
   "metadata": {},
   "source": [
    "***"
   ]
  },
  {
   "cell_type": "markdown",
   "id": "08b30918",
   "metadata": {},
   "source": [
    "The odds of choosing the correct combination of cups increases with sample size *n* and the number of possible combinations, *k* being the number of cups to be chosen (half of *n*). The number of combinations for a sample size *n* can be calculated using the SciPy *comb* package:"
   ]
  },
  {
   "cell_type": "code",
   "execution_count": 17,
   "id": "eab920ab",
   "metadata": {},
   "outputs": [
    {
     "name": "stdout",
     "output_type": "stream",
     "text": [
      "Possible combinations of k from n: 70\n",
      "Chance of correct guess: 1.43%\n"
     ]
    }
   ],
   "source": [
    "from scipy.special import comb\n",
    "\n",
    "k = 4\n",
    "n = 8\n",
    "combinations = comb(n, k, exact=True)\n",
    "print(\"Possible combinations of k from n: \" + str(combinations))\n",
    "\n",
    "print(\"Chance of correct guess: \" + str(round(100*(1/combinations),2)) + \"%\")"
   ]
  },
  {
   "cell_type": "markdown",
   "id": "20bb3d53",
   "metadata": {},
   "source": [
    "Increasing *n* will lower the odds of guessing the correct combination at random to less than 1%:"
   ]
  },
  {
   "cell_type": "code",
   "execution_count": 18,
   "id": "d231d0eb",
   "metadata": {},
   "outputs": [
    {
     "name": "stdout",
     "output_type": "stream",
     "text": [
      "Possible combinations of k from n: 924\n",
      "Chance of correct guess: 0.11%\n"
     ]
    }
   ],
   "source": [
    "k = 6\n",
    "n = 12\n",
    "combinations = comb(n,k, exact=True)\n",
    "print(\"Possible combinations of k from n: \" + str(combinations))\n",
    "\n",
    "print(\"Chance of correct guess: \" + str(round(100*(1/combinations),2)) + \"%\")"
   ]
  },
  {
   "cell_type": "markdown",
   "id": "e587f6de",
   "metadata": {},
   "source": [
    "Selecting 6 cups at random from a sample size of 12 yields 924 possible combinations and a 0.11% chance of guessing correctly."
   ]
  },
  {
   "cell_type": "markdown",
   "id": "7498501a",
   "metadata": {},
   "source": [
    "Lowering *n* to 10 brings the probability closer to the 1% target:"
   ]
  },
  {
   "cell_type": "code",
   "execution_count": 19,
   "id": "6779db23",
   "metadata": {},
   "outputs": [
    {
     "name": "stdout",
     "output_type": "stream",
     "text": [
      "Possible combinations of k from n: 252\n",
      "Chance of correct guess: 0.4%\n"
     ]
    }
   ],
   "source": [
    "k = 5\n",
    "n = 10\n",
    "combinations = comb(n,k, exact=True)\n",
    "print(\"Possible combinations of k from n: \" + str(combinations))\n",
    "\n",
    "print(\"Chance of correct guess: \" + str(round(100*(1/combinations),2)) + \"%\")"
   ]
  },
  {
   "cell_type": "markdown",
   "id": "88e36652",
   "metadata": {},
   "source": [
    "Because the cups must remain discrete units and *n* and *k* must therefore remain integers, and assuming *k* must be exactly half of *n*, a sample size of 10 brings the probability closest to <=1%."
   ]
  },
  {
   "cell_type": "markdown",
   "id": "3ea2bd8e",
   "metadata": {},
   "source": [
    "***"
   ]
  },
  {
   "cell_type": "markdown",
   "id": "e03a589c",
   "metadata": {},
   "source": [
    "Bonus: How many would be required if you were to let the taster get one cup wrong while maintaining the 1% threshold?"
   ]
  },
  {
   "cell_type": "markdown",
   "id": "b63081db",
   "metadata": {},
   "source": [
    "***"
   ]
  },
  {
   "cell_type": "markdown",
   "id": "b70d915f",
   "metadata": {},
   "source": [
    "Keeping a sample size of *n*=10, *k* is now set to 4 as the subject gets one guess wrong."
   ]
  },
  {
   "cell_type": "code",
   "execution_count": 20,
   "id": "7a0c31c0",
   "metadata": {
    "scrolled": true
   },
   "outputs": [
    {
     "name": "stdout",
     "output_type": "stream",
     "text": [
      "Possible combinations of k from n: 210\n",
      "Chance of correct guess: 0.48%\n"
     ]
    }
   ],
   "source": [
    "k = 4\n",
    "n = 10\n",
    "combinations = comb(n,k, exact=True)\n",
    "print(\"Possible combinations of k from n: \" + str(combinations))\n",
    "\n",
    "print(\"Chance of correct guess: \" + str(round(100*(1/combinations),2)) + \"%\")"
   ]
  },
  {
   "cell_type": "markdown",
   "id": "50408fdf",
   "metadata": {},
   "source": [
    "The probability of a correct guess is now at 0.48%, staying under the 1% target. Testing against the other values of *n*:"
   ]
  },
  {
   "cell_type": "code",
   "execution_count": 21,
   "id": "bfc5d12e",
   "metadata": {},
   "outputs": [
    {
     "name": "stdout",
     "output_type": "stream",
     "text": [
      "Possible combinations of k from n: 56\n",
      "Chance of correct guess: 1.79%\n"
     ]
    }
   ],
   "source": [
    "k = 3\n",
    "n = 8\n",
    "combinations = comb(n,k, exact=True)\n",
    "print(\"Possible combinations of k from n: \" + str(combinations))\n",
    "\n",
    "print(\"Chance of correct guess: \" + str(round(100*(1/combinations),2)) + \"%\")"
   ]
  },
  {
   "cell_type": "code",
   "execution_count": 22,
   "id": "66e21826",
   "metadata": {},
   "outputs": [
    {
     "name": "stdout",
     "output_type": "stream",
     "text": [
      "Possible combinations of k from n: 792\n",
      "Chance of correct guess: 0.13%\n"
     ]
    }
   ],
   "source": [
    "k = 5\n",
    "n = 12\n",
    "combinations = comb(n,k, exact=True)\n",
    "print(\"Possible combinations of k from n: \" + str(combinations))\n",
    "\n",
    "print(\"Chance of correct guess: \" + str(round(100*(1/combinations),2)) + \"%\")"
   ]
  },
  {
   "cell_type": "markdown",
   "id": "1c870428",
   "metadata": {},
   "source": [
    "We can see that a sample size of 8 with 3 correct guesses is 1.79%, significantly over the 1% limit, while a sample size of 12 with 5 correct guesses has a probability of 0.13%."
   ]
  },
  {
   "cell_type": "markdown",
   "id": "456c8726",
   "metadata": {},
   "source": [
    "***"
   ]
  },
  {
   "cell_type": "markdown",
   "id": "43335340",
   "metadata": {},
   "source": [
    "### Exercise 2"
   ]
  },
  {
   "cell_type": "markdown",
   "id": "5d4bee1e",
   "metadata": {},
   "source": [
    "Task: Use scipy's version of Fisher's exact test to simulate the Lady Tasting Tea problem."
   ]
  },
  {
   "cell_type": "markdown",
   "id": "9de64e51",
   "metadata": {},
   "source": [
    "***"
   ]
  },
  {
   "cell_type": "code",
   "execution_count": null,
   "id": "2429ec55",
   "metadata": {},
   "outputs": [],
   "source": []
  }
 ],
 "metadata": {
  "kernelspec": {
   "display_name": "Python 3 (ipykernel)",
   "language": "python",
   "name": "python3"
  },
  "language_info": {
   "codemirror_mode": {
    "name": "ipython",
    "version": 3
   },
   "file_extension": ".py",
   "mimetype": "text/x-python",
   "name": "python",
   "nbconvert_exporter": "python",
   "pygments_lexer": "ipython3",
   "version": "3.8.12"
  }
 },
 "nbformat": 4,
 "nbformat_minor": 5
}
