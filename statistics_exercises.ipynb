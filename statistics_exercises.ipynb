{
 "cells": [
  {
   "cell_type": "markdown",
   "id": "895dacd1",
   "metadata": {},
   "source": [
    "## Statistics exercises"
   ]
  },
  {
   "cell_type": "markdown",
   "id": "732b197a",
   "metadata": {},
   "source": [
    "### Exercise 1"
   ]
  },
  {
   "cell_type": "markdown",
   "id": "ebaa9d5f",
   "metadata": {},
   "source": [
    "In the lady tasting tea experiment, a subject is given eight cups of tea of sample size 8, of which 4 have been prepared with tea added first and four with milk added first. The cups are given in a random order and the subject is asked to determine which cup belongs to which group.\n",
    "\n",
    "The odds of choosing the correct combination of cups at random are given as 1 in 70 possible combinations or 1.4%.\n",
    "\n",
    "Task: Calculate the minimum number of cups of tea required to ensure the probability of randomly selecting the correct cups is less than or equal to 1%."
   ]
  },
  {
   "cell_type": "markdown",
   "id": "03c0ae97",
   "metadata": {},
   "source": [
    "***"
   ]
  },
  {
   "cell_type": "markdown",
   "id": "78ab4e0f",
   "metadata": {},
   "source": [
    "The odds of choosing the correct combination of cups increases with sample size *n* and the number of possible combinations, *k* being the number of cups to be chosen (half of *n*). The number of combinations for a sample size *n* can be calculated using the SciPy *comb* package:"
   ]
  },
  {
   "cell_type": "code",
   "execution_count": 17,
   "id": "d14d34bd",
   "metadata": {},
   "outputs": [
    {
     "name": "stdout",
     "output_type": "stream",
     "text": [
      "Possible combinations of k from n: 70\n",
      "Chance of correct guess: 1.43%\n"
     ]
    }
   ],
   "source": [
    "from scipy.special import comb\n",
    "\n",
    "k = 4\n",
    "n = 8\n",
    "combinations = comb(n, k, exact=True)\n",
    "print(\"Possible combinations of k from n: \" + str(combinations))\n",
    "\n",
    "print(\"Chance of correct guess: \" + str(round(100*(1/combinations),2)) + \"%\")"
   ]
  },
  {
   "cell_type": "markdown",
   "id": "130670b8",
   "metadata": {},
   "source": [
    "Increasing *n* will lower the odds of guessing the correct combination at random to less than 1%:"
   ]
  },
  {
   "cell_type": "code",
   "execution_count": 18,
   "id": "9f210525",
   "metadata": {},
   "outputs": [
    {
     "name": "stdout",
     "output_type": "stream",
     "text": [
      "Possible combinations of k from n: 924\n",
      "Chance of correct guess: 0.11%\n"
     ]
    }
   ],
   "source": [
    "k = 6\n",
    "n = 12\n",
    "combinations = comb(n,k, exact=True)\n",
    "print(\"Possible combinations of k from n: \" + str(combinations))\n",
    "\n",
    "print(\"Chance of correct guess: \" + str(round(100*(1/combinations),2)) + \"%\")"
   ]
  },
  {
   "cell_type": "markdown",
   "id": "3dd65a56",
   "metadata": {},
   "source": [
    "Selecting 6 cups at random from a sample size of 12 yields 924 possible combinations and a 0.11% chance of guessing correctly."
   ]
  },
  {
   "cell_type": "markdown",
   "id": "38ca91c4",
   "metadata": {},
   "source": [
    "Lowering *n* to 10 brings the probability closer to the 1% target:"
   ]
  },
  {
   "cell_type": "code",
   "execution_count": 19,
   "id": "ecf7cc0d",
   "metadata": {},
   "outputs": [
    {
     "name": "stdout",
     "output_type": "stream",
     "text": [
      "Possible combinations of k from n: 252\n",
      "Chance of correct guess: 0.4%\n"
     ]
    }
   ],
   "source": [
    "k = 5\n",
    "n = 10\n",
    "combinations = comb(n,k, exact=True)\n",
    "print(\"Possible combinations of k from n: \" + str(combinations))\n",
    "\n",
    "print(\"Chance of correct guess: \" + str(round(100*(1/combinations),2)) + \"%\")"
   ]
  },
  {
   "cell_type": "markdown",
   "id": "76c8aa7b",
   "metadata": {},
   "source": [
    "Because the cups must remain discrete units and *n* and *k* must therefore remain integers, and assuming *k* must be exactly half of *n*, a sample size of 10 brings the probability closest to <=1%."
   ]
  },
  {
   "cell_type": "markdown",
   "id": "806cd5b4",
   "metadata": {},
   "source": [
    "***"
   ]
  },
  {
   "cell_type": "markdown",
   "id": "1b72b106",
   "metadata": {},
   "source": [
    "Bonus: How many would be required if you were to let the taster get one cup wrong while maintaining the 1% threshold?"
   ]
  },
  {
   "cell_type": "markdown",
   "id": "e551b09b",
   "metadata": {},
   "source": [
    "***"
   ]
  },
  {
   "cell_type": "markdown",
   "id": "1450073c",
   "metadata": {},
   "source": [
    "Keeping a sample size of *n*=10, *k* is now set to 4 as the subject gets one guess wrong."
   ]
  },
  {
   "cell_type": "code",
   "execution_count": 20,
   "id": "1d2ebd21",
   "metadata": {
    "scrolled": true
   },
   "outputs": [
    {
     "name": "stdout",
     "output_type": "stream",
     "text": [
      "Possible combinations of k from n: 210\n",
      "Chance of correct guess: 0.48%\n"
     ]
    }
   ],
   "source": [
    "k = 4\n",
    "n = 10\n",
    "combinations = comb(n,k, exact=True)\n",
    "print(\"Possible combinations of k from n: \" + str(combinations))\n",
    "\n",
    "print(\"Chance of correct guess: \" + str(round(100*(1/combinations),2)) + \"%\")"
   ]
  },
  {
   "cell_type": "markdown",
   "id": "bdb79dff",
   "metadata": {},
   "source": [
    "The probability of a correct guess is now at 0.48%, staying under the 1% target. Testing against the other values of *n*:"
   ]
  },
  {
   "cell_type": "code",
   "execution_count": 21,
   "id": "ecf73320",
   "metadata": {},
   "outputs": [
    {
     "name": "stdout",
     "output_type": "stream",
     "text": [
      "Possible combinations of k from n: 56\n",
      "Chance of correct guess: 1.79%\n"
     ]
    }
   ],
   "source": [
    "k = 3\n",
    "n = 8\n",
    "combinations = comb(n,k, exact=True)\n",
    "print(\"Possible combinations of k from n: \" + str(combinations))\n",
    "\n",
    "print(\"Chance of correct guess: \" + str(round(100*(1/combinations),2)) + \"%\")"
   ]
  },
  {
   "cell_type": "code",
   "execution_count": 22,
   "id": "0e97af02",
   "metadata": {},
   "outputs": [
    {
     "name": "stdout",
     "output_type": "stream",
     "text": [
      "Possible combinations of k from n: 792\n",
      "Chance of correct guess: 0.13%\n"
     ]
    }
   ],
   "source": [
    "k = 5\n",
    "n = 12\n",
    "combinations = comb(n,k, exact=True)\n",
    "print(\"Possible combinations of k from n: \" + str(combinations))\n",
    "\n",
    "print(\"Chance of correct guess: \" + str(round(100*(1/combinations),2)) + \"%\")"
   ]
  },
  {
   "cell_type": "markdown",
   "id": "e71f09f3",
   "metadata": {},
   "source": [
    "We can see that a sample size of 8 with 3 correct guesses is 1.79%, significantly over the 1% limit, while a sample size of 12 with 5 correct guesses has a probability of 0.13%."
   ]
  },
  {
   "cell_type": "markdown",
   "id": "5cf49ab3",
   "metadata": {},
   "source": [
    "***"
   ]
  },
  {
   "cell_type": "markdown",
   "id": "84aa1f4d",
   "metadata": {},
   "source": [
    "### Exercise 2"
   ]
  },
  {
   "cell_type": "markdown",
   "id": "418ad016",
   "metadata": {},
   "source": [
    "Task: Use scipy's version of Fisher's exact test to simulate the Lady Tasting Tea problem."
   ]
  },
  {
   "cell_type": "markdown",
   "id": "1533a9c3",
   "metadata": {},
   "source": [
    "***"
   ]
  },
  {
   "cell_type": "markdown",
   "id": "e35168a6",
   "metadata": {},
   "source": [
    "Fisher's exact test is a statistical significance test used in the analysis of contingency tables, developed as part of the lady tasting tea experiment.\n",
    "\n",
    "Sticking with the sample size of 10 from above, table describing a correct guess of five cups with tea added first and five with milk added first would be:"
   ]
  },
  {
   "cell_type": "code",
   "execution_count": 49,
   "id": "e6963eef",
   "metadata": {},
   "outputs": [],
   "source": [
    "table = [[5,0],\n",
    "         [0,5]]"
   ]
  },
  {
   "cell_type": "markdown",
   "id": "c3108773",
   "metadata": {},
   "source": [
    "Passing this table to Fisher's exact test, we return a p-value of 0.8%, which is double the expected value for the sample size:"
   ]
  },
  {
   "cell_type": "code",
   "execution_count": 58,
   "id": "ff820ff2",
   "metadata": {},
   "outputs": [
    {
     "data": {
      "text/plain": [
       "(inf, 0.007936507936507929)"
      ]
     },
     "execution_count": 58,
     "metadata": {},
     "output_type": "execute_result"
    }
   ],
   "source": [
    "from scipy.stats import fisher_exact\n",
    "\n",
    "fisher_exact(table)"
   ]
  },
  {
   "cell_type": "markdown",
   "id": "d0c1ab2e",
   "metadata": {},
   "source": [
    "This is because *fisher_exact()* contains the optional parameter \"alternative\", which defines the conditions for the alternative (non-null) hypothesis. The default value of the parameter is \"two-sided\", counting both tails of the probability distribution, i.e., the probability that the odds ratio of the population underlying the observation is not one, irrespective of the value being greater or lesser than one.\n",
    "\n",
    "To get the p-value of the table describing a correct guess (0.4%, as found in exercise 1), \"alternative\" must be set to \"greater\":"
   ]
  },
  {
   "cell_type": "code",
   "execution_count": 59,
   "id": "8a39a70c",
   "metadata": {},
   "outputs": [
    {
     "data": {
      "text/plain": [
       "(inf, 0.0039682539682539646)"
      ]
     },
     "execution_count": 59,
     "metadata": {},
     "output_type": "execute_result"
    }
   ],
   "source": [
    "fisher_exact(table, alternative=\"greater\")"
   ]
  },
  {
   "cell_type": "markdown",
   "id": "775a161f",
   "metadata": {},
   "source": [
    "The p-value now conforms to the prediction found in exercise 1, that the ([4,0],[0,4]) table describing a correct guess has a probability of 0.4%.\n",
    "\n",
    "Because p < 0.05, we can reject the null hypothesis in this instance."
   ]
  },
  {
   "cell_type": "markdown",
   "id": "8273b596",
   "metadata": {},
   "source": [
    "***"
   ]
  },
  {
   "cell_type": "markdown",
   "id": "1019be70",
   "metadata": {},
   "source": [
    "### Exercise 3"
   ]
  },
  {
   "cell_type": "markdown",
   "id": "4ab79e90",
   "metadata": {},
   "source": [
    "Task: Take the code from the Examples section of the scipy stats documentation for independent samples t-tests, add it to your own notebook and add explain how it works using MarkDown cells and code comments. Improve it in any way you think it could be improved."
   ]
  },
  {
   "cell_type": "markdown",
   "id": "d4c75d41",
   "metadata": {},
   "source": [
    "***"
   ]
  }
 ],
 "metadata": {
  "kernelspec": {
   "display_name": "Python 3 (ipykernel)",
   "language": "python",
   "name": "python3"
  },
  "language_info": {
   "codemirror_mode": {
    "name": "ipython",
    "version": 3
   },
   "file_extension": ".py",
   "mimetype": "text/x-python",
   "name": "python",
   "nbconvert_exporter": "python",
   "pygments_lexer": "ipython3",
   "version": "3.8.12"
  }
 },
 "nbformat": 4,
 "nbformat_minor": 5
}
